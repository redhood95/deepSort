{
 "cells": [
  {
   "cell_type": "code",
   "execution_count": 1,
   "metadata": {},
   "outputs": [
    {
     "name": "stderr",
     "output_type": "stream",
     "text": [
      "Using TensorFlow backend.\n"
     ]
    }
   ],
   "source": [
    "from __future__ import division, print_function, absolute_import\n",
    "\n",
    "import os\n",
    "from timeit import time\n",
    "import warnings\n",
    "import sys\n",
    "import cv2\n",
    "import numpy as np\n",
    "from PIL import Image\n",
    "from yolo import YOLO\n",
    "\n",
    "from deep_sort import preprocessing\n",
    "from deep_sort import nn_matching\n",
    "from deep_sort.detection import Detection\n",
    "from deep_sort.tracker import Tracker\n",
    "from tools import generate_detections as gdet\n",
    "from deep_sort.detection import Detection as ddet\n",
    "warnings.filterwarnings('ignore')"
   ]
  },
  {
   "cell_type": "code",
   "execution_count": 2,
   "metadata": {},
   "outputs": [],
   "source": [
    "def main(yolo):\n",
    "\n",
    "   # Definition of the parameters\n",
    "    max_cosine_distance = 0.3\n",
    "    nn_budget = None\n",
    "    nms_max_overlap = 1.0\n",
    "    \n",
    "   # deep_sort \n",
    "    model_filename = 'model_data/mars-small128.pb'\n",
    "    encoder = gdet.create_box_encoder(model_filename,batch_size=1)\n",
    "    \n",
    "    metric = nn_matching.NearestNeighborDistanceMetric(\"cosine\", max_cosine_distance, nn_budget)\n",
    "    tracker = Tracker(metric)\n",
    "\n",
    "    writeVideo_flag = True \n",
    "    \n",
    "    video_capture = cv2.VideoCapture(0)\n",
    "\n",
    "    if writeVideo_flag:\n",
    "    # Define the codec and create VideoWriter object\n",
    "        w = int(video_capture.get(3))\n",
    "        h = int(video_capture.get(4))\n",
    "        fourcc = cv2.VideoWriter_fourcc(*'MJPG')\n",
    "        out = cv2.VideoWriter('output.avi', fourcc, 15, (w, h))\n",
    "        list_file = open('detection.txt', 'w')\n",
    "        frame_index = -1 \n",
    "        \n",
    "    fps = 0.0\n",
    "    while True:\n",
    "        ret, frame = video_capture.read()  # frame shape 640*480*3\n",
    "        if ret != True:\n",
    "            break\n",
    "        t1 = time.time()\n",
    "\n",
    "       # image = Image.fromarray(frame)\n",
    "        image = Image.fromarray(frame[...,::-1]) #bgr to rgb\n",
    "        boxs = yolo.detect_image(image)\n",
    "       # print(\"box_num\",len(boxs))\n",
    "        features = encoder(frame,boxs)\n",
    "        \n",
    "        # score to 1.0 here).\n",
    "        detections = [Detection(bbox, 1.0, feature) for bbox, feature in zip(boxs, features)]\n",
    "        \n",
    "        # Run non-maxima suppression.\n",
    "        boxes = np.array([d.tlwh for d in detections])\n",
    "        scores = np.array([d.confidence for d in detections])\n",
    "        indices = preprocessing.non_max_suppression(boxes, nms_max_overlap, scores)\n",
    "        detections = [detections[i] for i in indices]\n",
    "        \n",
    "        # Call the tracker\n",
    "        tracker.predict()\n",
    "        tracker.update(detections)\n",
    "        \n",
    "        for track in tracker.tracks:\n",
    "            if not track.is_confirmed() or track.time_since_update > 1:\n",
    "                continue \n",
    "            bbox = track.to_tlbr()\n",
    "            cv2.rectangle(frame, (int(bbox[0]), int(bbox[1])), (int(bbox[2]), int(bbox[3])),(255,255,255), 2)\n",
    "            cv2.putText(frame, str(track.track_id),(int(bbox[0]), int(bbox[1])),0, 5e-3 * 200, (0,255,0),2)\n",
    "\n",
    "        for det in detections:\n",
    "            bbox = det.to_tlbr()\n",
    "            cv2.rectangle(frame,(int(bbox[0]), int(bbox[1])), (int(bbox[2]), int(bbox[3])),(255,0,0), 2)\n",
    "            \n",
    "        cv2.imshow('', frame)\n",
    "        \n",
    "        if writeVideo_flag:\n",
    "            # save a frame\n",
    "            out.write(frame)\n",
    "            frame_index = frame_index + 1\n",
    "            list_file.write(str(frame_index)+' ')\n",
    "            if len(boxs) != 0:\n",
    "                for i in range(0,len(boxs)):\n",
    "                    list_file.write(str(boxs[i][0]) + ' '+str(boxs[i][1]) + ' '+str(boxs[i][2]) + ' '+str(boxs[i][3]) + ' ')\n",
    "            list_file.write('\\n')\n",
    "            \n",
    "        fps  = ( fps + (1./(time.time()-t1)) ) / 2\n",
    "        print(\"fps= %f\"%(fps))\n",
    "        \n",
    "        # Press Q to stop!\n",
    "        if cv2.waitKey(1) & 0xFF == ord('q'):\n",
    "            break\n",
    "\n",
    "    video_capture.release()\n",
    "    if writeVideo_flag:\n",
    "        out.release()\n",
    "        list_file.close()\n",
    "    cv2.destroyAllWindows()"
   ]
  },
  {
   "cell_type": "code",
   "execution_count": null,
   "metadata": {},
   "outputs": [
    {
     "name": "stdout",
     "output_type": "stream",
     "text": [
      "model_data/yolo.h5 model, anchors, and classes loaded.\n"
     ]
    }
   ],
   "source": [
    "main(YOLO())"
   ]
  },
  {
   "cell_type": "code",
   "execution_count": null,
   "metadata": {},
   "outputs": [],
   "source": []
  }
 ],
 "metadata": {
  "kernelspec": {
   "display_name": "Python 3",
   "language": "python",
   "name": "python3"
  },
  "language_info": {
   "codemirror_mode": {
    "name": "ipython",
    "version": 3
   },
   "file_extension": ".py",
   "mimetype": "text/x-python",
   "name": "python",
   "nbconvert_exporter": "python",
   "pygments_lexer": "ipython3",
   "version": "3.6.8"
  }
 },
 "nbformat": 4,
 "nbformat_minor": 2
}
